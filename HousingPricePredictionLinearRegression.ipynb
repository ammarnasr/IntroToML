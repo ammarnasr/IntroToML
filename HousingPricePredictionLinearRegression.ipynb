{
  "nbformat": 4,
  "nbformat_minor": 0,
  "metadata": {
    "kernelspec": {
      "display_name": "Python 3",
      "language": "python",
      "name": "python3"
    },
    "language_info": {
      "name": "python",
      "version": "3.6.6",
      "mimetype": "text/x-python",
      "codemirror_mode": {
        "name": "ipython",
        "version": 3
      },
      "pygments_lexer": "ipython3",
      "nbconvert_exporter": "python",
      "file_extension": ".py"
    },
    "colab": {
      "name": "housing-price-prediction-linear-regression.ipynb",
      "provenance": []
    }
  },
  "cells": [
    {
      "cell_type": "markdown",
      "metadata": {
        "_uuid": "9d30d8a6045a8b08aba09e2a3230c666bac821f1",
        "id": "Bi64i292dUDq"
      },
      "source": [
        "# Housing Price Prediction Case Study"
      ]
    },
    {
      "cell_type": "markdown",
      "metadata": {
        "_uuid": "99c0c2513327840d9bd303f4e64a899288ddb54c",
        "id": "BJgLJwB7dUDz"
      },
      "source": [
        "## Multiple Linear Regression\n",
        "\n",
        "### Problem Statement:\n",
        "\n",
        "Consider a real estate company that has a dataset containing the prices of properties in the Delhi region. It wishes to use the data to optimise the sale prices of the properties based on important factors such as area, bedrooms, parking, etc.\n",
        "\n",
        "Essentially, the company wants —\n",
        "\n",
        "\n",
        "- To identify the variables affecting house prices, e.g. area, number of rooms, bathrooms, etc.\n",
        "\n",
        "- To create a linear model that quantitatively relates house prices with variables such as number of rooms, area, number of bathrooms, etc.\n",
        "\n",
        "- To know the accuracy of the model, i.e. how well these variables can predict house prices.\n",
        "\n",
        "### Data\n",
        "Use housing dataset."
      ]
    },
    {
      "cell_type": "markdown",
      "metadata": {
        "_uuid": "3436cb2bcf6466380cf2f43733f98c2112e43087",
        "id": "32TtGDFldUD1"
      },
      "source": [
        "## Reading and Understanding the Data"
      ]
    },
    {
      "cell_type": "code",
      "metadata": {
        "trusted": true,
        "_uuid": "431b6c4e49b75ce7b04e909b83906dfd7b858959",
        "id": "UF74srZedUD3"
      },
      "source": [
        "# Supress Warnings\n",
        "\n",
        "import warnings\n",
        "warnings.filterwarnings('ignore')\n",
        "\n",
        "# Import the numpy and pandas package\n",
        "\n",
        "import numpy as np\n",
        "import pandas as pd\n",
        "\n",
        "# Data Visualisation\n",
        "\n",
        "import matplotlib.pyplot as plt \n",
        "import seaborn as sns"
      ],
      "execution_count": null,
      "outputs": []
    },
    {
      "cell_type": "code",
      "metadata": {
        "trusted": true,
        "_uuid": "746ef6bc4fafc58e8a37083aaece63eb79bc2308",
        "id": "pVSB8Mn1dUD6"
      },
      "source": [
        "housing = pd.DataFrame(pd.read_csv(\"https://raw.githubusercontent.com/ammarnasr/IntroToML/main/Housing.csv\"))"
      ],
      "execution_count": null,
      "outputs": []
    },
    {
      "cell_type": "code",
      "metadata": {
        "trusted": true,
        "_uuid": "d765ad0cca904b30124809f090959c1540dfe729",
        "id": "Ka6b_yIjdUD7"
      },
      "source": [
        "# Check the head of the dataset\n",
        "housing.head()"
      ],
      "execution_count": null,
      "outputs": []
    },
    {
      "cell_type": "markdown",
      "metadata": {
        "_uuid": "97cd7a0c1ebdad167b71d99409ccfe9bbb0fd31f",
        "id": "teGa5mQrdUD9"
      },
      "source": [
        "## Data Inspection"
      ]
    },
    {
      "cell_type": "code",
      "metadata": {
        "trusted": true,
        "_uuid": "73b846cde866034ab84bfd5e2e3bb35f638b5ec8",
        "id": "-7cP9JV1dUD_"
      },
      "source": [
        "housing.shape"
      ],
      "execution_count": null,
      "outputs": []
    },
    {
      "cell_type": "code",
      "metadata": {
        "trusted": true,
        "_uuid": "e1e2d0a71e1fa5d41dce0562b2d1aae8ed17e041",
        "id": "I9k-olAzdUEC"
      },
      "source": [
        "housing.info()"
      ],
      "execution_count": null,
      "outputs": []
    },
    {
      "cell_type": "code",
      "metadata": {
        "scrolled": true,
        "trusted": true,
        "_uuid": "68e9fc5700d7192a76f8f0393dc02b6996db0d43",
        "id": "JX08Gp5YdUEE"
      },
      "source": [
        "housing.describe()"
      ],
      "execution_count": null,
      "outputs": []
    },
    {
      "cell_type": "markdown",
      "metadata": {
        "_uuid": "0ca4cbb107bdc125987f0b734a1b8834b6d8c0a8",
        "id": "ocR9nkX1dUEF"
      },
      "source": [
        "## Data Cleaning"
      ]
    },
    {
      "cell_type": "code",
      "metadata": {
        "trusted": true,
        "_uuid": "3c78f79ff808df88d1ced4e944158375e2836f45",
        "id": "GYMZ2p31dUEG"
      },
      "source": [
        "# Checking Null values\n",
        "housing.isnull().sum()*100/housing.shape[0]\n",
        "# There are no NULL values in the dataset, hence it is clean."
      ],
      "execution_count": null,
      "outputs": []
    },
    {
      "cell_type": "code",
      "metadata": {
        "trusted": true,
        "_uuid": "7ec7bfa83693e04422ea2de1fe2041aa75bccf51",
        "id": "_X2EJg2bdUEH"
      },
      "source": [
        "# Outlier Analysis\n",
        "fig, axs = plt.subplots(2,3, figsize = (10,5))\n",
        "plt1 = sns.boxplot(housing['price'], ax = axs[0,0])\n",
        "plt2 = sns.boxplot(housing['area'], ax = axs[0,1])\n",
        "plt3 = sns.boxplot(housing['bedrooms'], ax = axs[0,2])\n",
        "plt1 = sns.boxplot(housing['bathrooms'], ax = axs[1,0])\n",
        "plt2 = sns.boxplot(housing['stories'], ax = axs[1,1])\n",
        "plt3 = sns.boxplot(housing['parking'], ax = axs[1,2])\n",
        "\n",
        "plt.tight_layout()"
      ],
      "execution_count": null,
      "outputs": []
    },
    {
      "cell_type": "markdown",
      "metadata": {
        "_uuid": "3f5e53ed935216b121bd7266a515654cf9b82b7e",
        "id": "I3xD2TLgdUEL"
      },
      "source": [
        "## Exploratory Data Analytics\n",
        "\n",
        "Let's now spend some time doing what is arguably the most important step - **understanding the data**.\n",
        "- If there is some obvious multicollinearity going on, this is the first place to catch it\n",
        "- Here's where you'll also identify if some predictors directly have a strong association with the outcome variable"
      ]
    },
    {
      "cell_type": "markdown",
      "metadata": {
        "_uuid": "cf330625f5e0fc1c93f752a8ba90bb2079c450b8",
        "id": "GQgIzbsrdUEL"
      },
      "source": [
        "### Visualising Numeric Variables\n",
        "\n",
        "Let's make a pairplot of all the numeric variables"
      ]
    },
    {
      "cell_type": "code",
      "metadata": {
        "trusted": true,
        "_uuid": "6c7c7195228dbc64fb0bbd2545efc6041bb6024d",
        "id": "x68ft48MdUEM"
      },
      "source": [
        "sns.pairplot(housing)\n",
        "plt.show()"
      ],
      "execution_count": null,
      "outputs": []
    },
    {
      "cell_type": "markdown",
      "metadata": {
        "_uuid": "82de6addf2af16bd82d64432d0a6017042bc7510",
        "id": "3rzxSNY_dUEN"
      },
      "source": [
        "#### Visualising Categorical Variables\n",
        "\n",
        "As you might have noticed, there are a few categorical variables as well. Let's make a boxplot for some of these variables."
      ]
    },
    {
      "cell_type": "code",
      "metadata": {
        "trusted": true,
        "_uuid": "4c3608492e866165e76eff056ff792bbfd885844",
        "id": "_p9Zj3yEdUEN"
      },
      "source": [
        "plt.figure(figsize=(20, 12))\n",
        "plt.subplot(2,3,1)\n",
        "sns.boxplot(x = 'mainroad', y = 'price', data = housing)\n",
        "plt.subplot(2,3,2)\n",
        "sns.boxplot(x = 'guestroom', y = 'price', data = housing)\n",
        "plt.subplot(2,3,3)\n",
        "sns.boxplot(x = 'basement', y = 'price', data = housing)\n",
        "plt.subplot(2,3,4)\n",
        "sns.boxplot(x = 'hotwaterheating', y = 'price', data = housing)\n",
        "plt.subplot(2,3,5)\n",
        "sns.boxplot(x = 'airconditioning', y = 'price', data = housing)\n",
        "plt.subplot(2,3,6)\n",
        "sns.boxplot(x = 'furnishingstatus', y = 'price', data = housing)\n",
        "plt.show()"
      ],
      "execution_count": null,
      "outputs": []
    },
    {
      "cell_type": "markdown",
      "metadata": {
        "_uuid": "6c707cb6e33e92c23ce7bc2e33fe6170cb6d8cd1",
        "id": "bwGAaDfKdUEO"
      },
      "source": [
        "We can also visualise some of these categorical features parallely by using the `hue` argument. Below is the plot for `furnishingstatus` with `airconditioning` as the hue."
      ]
    },
    {
      "cell_type": "code",
      "metadata": {
        "trusted": true,
        "_uuid": "437223279fb56d4c9c3b5905f0f2ed0f0fd69577",
        "id": "N31GU4SNdUEO"
      },
      "source": [
        "plt.figure(figsize = (10, 5))\n",
        "sns.boxplot(x = 'furnishingstatus', y = 'price', hue = 'airconditioning', data = housing)\n",
        "plt.show()"
      ],
      "execution_count": null,
      "outputs": []
    },
    {
      "cell_type": "markdown",
      "metadata": {
        "_uuid": "d9889ec8b63eadf25022ac9b928ea02e608e683e",
        "id": "DCOk6_2LdUEP"
      },
      "source": [
        "## Data Preparation"
      ]
    },
    {
      "cell_type": "markdown",
      "metadata": {
        "_uuid": "33f46d3bce47c43f1f26910e4c5c95baa7891c0c",
        "id": "JhyMGHs2dUEP"
      },
      "source": [
        "- You can see that your dataset has many columns with values as 'Yes' or 'No'.\n",
        "\n",
        "- But in order to fit a regression line, we would need numerical values and not string. Hence, we need to convert them to 1s and 0s, where 1 is a 'Yes' and 0 is a 'No'."
      ]
    },
    {
      "cell_type": "code",
      "metadata": {
        "trusted": true,
        "_uuid": "ffa2c206d63c0bbe25355bdbc6b4ff7a78721c20",
        "id": "Dd-spvlrdUEP"
      },
      "source": [
        "# List of variables to map\n",
        "\n",
        "varlist =  ['mainroad', 'guestroom', 'basement', 'hotwaterheating', 'airconditioning', 'prefarea']\n",
        "\n",
        "# Defining the map function\n",
        "def binary_map(x):\n",
        "    return x.map({'yes': 1, \"no\": 0})\n",
        "\n",
        "# Applying the function to the housing list\n",
        "housing[varlist] = housing[varlist].apply(binary_map)"
      ],
      "execution_count": null,
      "outputs": []
    },
    {
      "cell_type": "code",
      "metadata": {
        "trusted": true,
        "_uuid": "d754048ba7fe30841f92073ea8b59d7fcad4a6ce",
        "id": "M38wiXzAdUER"
      },
      "source": [
        "# Check the housing dataframe now\n",
        "\n",
        "housing.head()"
      ],
      "execution_count": null,
      "outputs": []
    },
    {
      "cell_type": "markdown",
      "metadata": {
        "_uuid": "a0f8c8376ce5a8d6d8c1c783ec9f7a0e627eeefc",
        "id": "_UqUwsSAdUES"
      },
      "source": [
        "### Dummy Variables"
      ]
    },
    {
      "cell_type": "markdown",
      "metadata": {
        "_uuid": "5100d00d83ce73a66afc490280dc00d852cc2f92",
        "id": "tEVa5CtpdUET"
      },
      "source": [
        "The variable `furnishingstatus` has three levels. We need to convert these levels into integer as well. \n",
        "\n",
        "For this, we will use something called `dummy variables`."
      ]
    },
    {
      "cell_type": "code",
      "metadata": {
        "trusted": true,
        "_uuid": "e57564544b89f851ca2536d5d0cf8f71b7d2f8af",
        "id": "bFVlsn4JdUET"
      },
      "source": [
        "# Get the dummy variables for the feature 'furnishingstatus' and store it in a new variable - 'status'\n",
        "status = pd.get_dummies(housing['furnishingstatus'])"
      ],
      "execution_count": null,
      "outputs": []
    },
    {
      "cell_type": "code",
      "metadata": {
        "trusted": true,
        "_uuid": "3cb5808e2eb979d654827bc727ba28fffcfc5bd6",
        "id": "WHsJIU3QdUEU"
      },
      "source": [
        "# Check what the dataset 'status' looks like\n",
        "status.head()"
      ],
      "execution_count": null,
      "outputs": []
    },
    {
      "cell_type": "markdown",
      "metadata": {
        "_uuid": "87964c68f0849db142b2a0178949ab4ee5dad8a5",
        "id": "QBuKo3EhdUEU"
      },
      "source": [
        "Now, you don't need three columns. You can drop the `furnished` column, as the type of furnishing can be identified with just the last two columns where — \n",
        "- `00` will correspond to `furnished`\n",
        "- `01` will correspond to `unfurnished`\n",
        "- `10` will correspond to `semi-furnished`"
      ]
    },
    {
      "cell_type": "code",
      "metadata": {
        "trusted": true,
        "_uuid": "2e64521e0eb959791a7e867dec83c6f2a0b5ba38",
        "id": "o4vg3W6MdUEV"
      },
      "source": [
        "# Let's drop the first column from status df using 'drop_first = True'\n",
        "\n",
        "status = pd.get_dummies(housing['furnishingstatus'], drop_first = True)"
      ],
      "execution_count": null,
      "outputs": []
    },
    {
      "cell_type": "code",
      "metadata": {
        "trusted": true,
        "_uuid": "1b9198d2b8e96ae31ee346058d91d293e2826e14",
        "id": "vRazAuWmdUEV"
      },
      "source": [
        "# Add the results to the original housing dataframe\n",
        "\n",
        "housing = pd.concat([housing, status], axis = 1)"
      ],
      "execution_count": null,
      "outputs": []
    },
    {
      "cell_type": "code",
      "metadata": {
        "trusted": true,
        "_uuid": "202e9fe9bc947dd1ed20afe6a1dfdd3a1a91ed96",
        "id": "Dj0ryVtqdUEW"
      },
      "source": [
        "# Now let's see the head of our dataframe.\n",
        "\n",
        "housing.head()"
      ],
      "execution_count": null,
      "outputs": []
    },
    {
      "cell_type": "code",
      "metadata": {
        "trusted": true,
        "_uuid": "30d3b04cf9943a6ae45c51d0a4d897dc4a014bf6",
        "id": "FtQw-_9QdUEW"
      },
      "source": [
        "# Drop 'furnishingstatus' as we have created the dummies for it\n",
        "\n",
        "housing.drop(['furnishingstatus'], axis = 1, inplace = True)"
      ],
      "execution_count": null,
      "outputs": []
    },
    {
      "cell_type": "code",
      "metadata": {
        "trusted": true,
        "_uuid": "6387630eca0184a51e3f1ff784dee84fa54bb109",
        "id": "KMQT0i3UdUEW"
      },
      "source": [
        "housing.head()"
      ],
      "execution_count": null,
      "outputs": []
    },
    {
      "cell_type": "markdown",
      "metadata": {
        "_uuid": "837091e7d8ac08f881d1d1b6ed57ec6d1e806165",
        "id": "qVcgOwwZdUEX"
      },
      "source": [
        "### Splitting the Data into Training and Testing Sets"
      ]
    },
    {
      "cell_type": "code",
      "metadata": {
        "trusted": true,
        "_uuid": "5449ca9587bd949ebc3cc166122fcf733b8eb2f9",
        "id": "gkGo1ZmadUEX"
      },
      "source": [
        "from sklearn.model_selection import train_test_split\n",
        "\n",
        "# We specify this so that the train and test data set always have the same rows, respectively\n",
        "np.random.seed(0)\n",
        "df_train, df_test = train_test_split(housing, train_size = 0.7, test_size = 0.3, random_state = 100)"
      ],
      "execution_count": null,
      "outputs": []
    },
    {
      "cell_type": "markdown",
      "metadata": {
        "_uuid": "0e6c366f2979dc9f6cfa6a0b46dba9a585be18a8",
        "id": "n264Kz6LdUEX"
      },
      "source": [
        "### Rescaling the Features \n",
        "\n",
        "As you saw in the demonstration for Simple Linear Regression, scaling doesn't impact your model. Here we can see that except for `area`, all the columns have small integer values. So it is extremely important to rescale the variables so that they have a comparable scale. If we don't have comparable scales, then some of the coefficients as obtained by fitting the regression model might be very large or very small as compared to the other coefficients. This might become very annoying at the time of model evaluation. So it is advised to use standardization or normalization so that the units of the coefficients obtained are all on the same scale. As you know, there are two common ways of rescaling:\n",
        "\n",
        "1. Min-Max scaling \n",
        "2. Standardisation (mean-0, sigma-1) \n",
        "\n",
        "This time, we will use MinMax scaling."
      ]
    },
    {
      "cell_type": "code",
      "metadata": {
        "trusted": true,
        "_uuid": "facade72a50104e04437fd7bd7191a23713fc8ea",
        "id": "jBM3-Et9dUEY"
      },
      "source": [
        "from sklearn.preprocessing import MinMaxScaler"
      ],
      "execution_count": null,
      "outputs": []
    },
    {
      "cell_type": "code",
      "metadata": {
        "trusted": true,
        "_uuid": "3f4c69929aaf26f7aee879139814b027eae01798",
        "id": "kdivOxhfdUEY"
      },
      "source": [
        "scaler = MinMaxScaler()"
      ],
      "execution_count": null,
      "outputs": []
    },
    {
      "cell_type": "code",
      "metadata": {
        "trusted": true,
        "_uuid": "91c50ab11758f9e3a7905fd689641f8f003860c8",
        "id": "XJCpC1rwdUEY"
      },
      "source": [
        "# Apply scaler() to all the columns except the 'yes-no' and 'dummy' variables\n",
        "num_vars = ['area', 'bedrooms', 'bathrooms', 'stories', 'parking','price']\n",
        "\n",
        "df_train[num_vars] = scaler.fit_transform(df_train[num_vars])"
      ],
      "execution_count": null,
      "outputs": []
    },
    {
      "cell_type": "code",
      "metadata": {
        "trusted": true,
        "_uuid": "80202e0393e84a01949522f8809bce181a08d84a",
        "id": "2P-c0xJGdUEZ"
      },
      "source": [
        "df_train.head()"
      ],
      "execution_count": null,
      "outputs": []
    },
    {
      "cell_type": "code",
      "metadata": {
        "trusted": true,
        "_uuid": "0578a4dfe42b2b1a741e847e00b6bdcc5323156e",
        "id": "OrxXWnfAdUEZ"
      },
      "source": [
        "df_train.describe()"
      ],
      "execution_count": null,
      "outputs": []
    },
    {
      "cell_type": "code",
      "metadata": {
        "trusted": true,
        "_uuid": "daad7f09168cddb4272fd0f10395aac2cc2cecf2",
        "id": "QQgV4HKWdUEZ"
      },
      "source": [
        "# Let's check the correlation coefficients to see which variables are highly correlated\n",
        "\n",
        "plt.figure(figsize = (16, 10))\n",
        "sns.heatmap(df_train.corr(), annot = True, cmap=\"YlGnBu\")\n",
        "plt.show()"
      ],
      "execution_count": null,
      "outputs": []
    },
    {
      "cell_type": "markdown",
      "metadata": {
        "_uuid": "262156ecb629391512238b83b03a89c8ebdb504f",
        "id": "nrHVC8asdUEa"
      },
      "source": [
        "As you might have noticed, `area` seems to the correlated to `price` the most. Let's see a pairplot for `area` vs `price`."
      ]
    },
    {
      "cell_type": "markdown",
      "metadata": {
        "_uuid": "8b7a573b3de7738aca7829dbf4c1b41fa666d47e",
        "id": "JWukDtaTdUEa"
      },
      "source": [
        "### Dividing into X and Y sets for the model building"
      ]
    },
    {
      "cell_type": "code",
      "metadata": {
        "trusted": true,
        "_uuid": "8d461aa6a96a85e680fa73c706d0e440c9147322",
        "id": "abEqswW0dUEa"
      },
      "source": [
        "y_train = df_train.pop('price')\n",
        "X_train = df_train"
      ],
      "execution_count": null,
      "outputs": []
    },
    {
      "cell_type": "markdown",
      "metadata": {
        "_uuid": "cde8d33f5a71cab0d31cccd80c91542783fb7090",
        "id": "LCgJE6d3dUEa"
      },
      "source": [
        "## Model Building"
      ]
    },
    {
      "cell_type": "markdown",
      "metadata": {
        "_uuid": "fdfe691aa611e8138f3b157273139777bd2b11f8",
        "id": "Cy9rGl6ldUEb"
      },
      "source": [
        "This time, we will be using the **LinearRegression function from SciKit Learn** for its compatibility with RFE (which is a utility from sklearn)"
      ]
    },
    {
      "cell_type": "code",
      "metadata": {
        "trusted": true,
        "_uuid": "15f69354ac60bbc21b8765f713c6bac720909a69",
        "id": "H7hpJgBbdUEb"
      },
      "source": [
        "# Importing RFE and LinearRegression\n",
        "from sklearn.linear_model import LinearRegression"
      ],
      "execution_count": null,
      "outputs": []
    },
    {
      "cell_type": "markdown",
      "metadata": {
        "id": "GLPgt4KxxRO6"
      },
      "source": [
        "<h3>Model creation and training</h3>"
      ]
    },
    {
      "cell_type": "code",
      "metadata": {
        "id": "Ch7xNqHsAVKg"
      },
      "source": [
        "lr=LinearRegression()\n",
        "lr.fit(X_train,y_train)"
      ],
      "execution_count": null,
      "outputs": []
    },
    {
      "cell_type": "markdown",
      "metadata": {
        "_uuid": "929bfe56bbc1c23f9c4069acce30593044af093d",
        "id": "RaMHfJnadUEf"
      },
      "source": [
        "## Residual Analysis of the train data"
      ]
    },
    {
      "cell_type": "markdown",
      "metadata": {
        "_uuid": "848c69f31ac4b52bf81ce2f4fdafbf9b4b4fba37",
        "id": "ZKrKK3Y2dUEf"
      },
      "source": [
        "So, now to check if the error terms are also normally distributed (which is infact, one of the major assumptions of linear regression), let us plot the histogram of the error terms and see what it looks like."
      ]
    },
    {
      "cell_type": "code",
      "metadata": {
        "trusted": true,
        "_uuid": "ea322f903d893af55c8ce74af23ad9da69297296",
        "id": "8hO9v6dQdUEf"
      },
      "source": [
        "y_train_price = lr.predict(X_train)"
      ],
      "execution_count": null,
      "outputs": []
    },
    {
      "cell_type": "code",
      "metadata": {
        "trusted": true,
        "_uuid": "0dfe7cfd174b675cc86f03f19cebf5c3aee750b7",
        "id": "tt7fG3GndUEg"
      },
      "source": [
        "res = (y_train_price - y_train)"
      ],
      "execution_count": null,
      "outputs": []
    },
    {
      "cell_type": "code",
      "metadata": {
        "trusted": true,
        "_uuid": "ab7df18b1e1e01bb58d7d5322b9be3429ca58ae1",
        "id": "bX9q_oNUdUEg"
      },
      "source": [
        "# Importing the required libraries for plots.\n",
        "import matplotlib.pyplot as plt\n",
        "import seaborn as sns\n",
        "%matplotlib inline"
      ],
      "execution_count": null,
      "outputs": []
    },
    {
      "cell_type": "code",
      "metadata": {
        "scrolled": true,
        "trusted": true,
        "_uuid": "6c88bec7ff0f3264d1fcfdce138b657fbc87732a",
        "id": "djyu5r8hdUEg"
      },
      "source": [
        "# Plot the histogram of the error terms\n",
        "fig = plt.figure()\n",
        "sns.distplot((y_train - y_train_price), bins = 20)\n",
        "fig.suptitle('Error Terms', fontsize = 20)                  # Plot heading \n",
        "plt.xlabel('Errors', fontsize = 18)                         # X-label"
      ],
      "execution_count": null,
      "outputs": []
    },
    {
      "cell_type": "code",
      "metadata": {
        "trusted": true,
        "_uuid": "fc5970cce08cf1588b50049536ed59add70ab46e",
        "id": "N1LOdhyIdUEg"
      },
      "source": [
        "plt.scatter(y_train,res)\n",
        "plt.show()"
      ],
      "execution_count": null,
      "outputs": []
    },
    {
      "cell_type": "code",
      "metadata": {
        "trusted": true,
        "_uuid": "833b7f1da0f80b0f5b8e8acd8c1c58ae672a25e3",
        "id": "fml9wuODdUEh"
      },
      "source": [
        "# There may be some relation in the error terms."
      ],
      "execution_count": null,
      "outputs": []
    }
  ]
}